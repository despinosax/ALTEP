{
 "cells": [
  {
   "cell_type": "markdown",
   "metadata": {},
   "source": [
    "# **Aufgabe 4 - Skalierung von Bilddaten**\n",
    "\n",
    "In der Bildbearbeitung spielt das Interpolieren von Daten eine wichtige Rolle. Eine Anwendung ist das Skalieren von Bildern. Dabei werden mit Hilfe der bekannten Pixel Zwischenwerte berechnet, was zum Erhöhen oder Verringern der Auflösung verwendet werden kann. In dieser Aufgabe ist folgendes Bild von Homer aus den Simpsons in zwei Varianten gegeben: (1) Ein hoch aufgelöstes Bild mit 256x256 Pixeln Auflösung und (2) ein niedrig aufgelöstes Bild mit 128x128 Pixeln. Im folgenden ist das hoch aufgelöste Bild dargestellt:\n",
    "\n",
    "![alt text](Daten/homer_256x256.jpg)\n",
    "\n",
    "Das Ziel dieser Aufgabe ist es, mittels linearer Interpolation das 128x128 Bild auf eine Auflösung von 256x256 hochzuskalieren und mit dem Ausgangsbild zu vergleichen.\n",
    "\n",
    "### **Teilaufgaben**\n",
    "\n",
    "1. Lesen Sie das grob aufgelöste Bild `homer_128x128.jpg` im Ordner `Daten` ein und stellen Sie es dar.\n",
    "2. Implementieren Sie einen Funktion, um die Auflösung quadratischer Bilder mittels linearer Interpolation zu verdoppeln.\n",
    "3. Benutzen Sie die von Ihnen implementierte Funktion, um die Auflösung des gegebenen Bildes 128 x 128 Pixel auf 256 x 256 Pixel zu erhöhen. Stellen Sie beide Bilder dar.\n",
    "\n",
    "### **Hinweise**\n",
    "\n",
    "Zum Einlesen und Darstellen von Bildern kann in Python die Funktion [`Image()`](https://pillow.readthedocs.io/en/stable/reference/Image.html) aus dem Modul `PIL` verwendet werden. Anschließend kann das eingelesene Bild mittels der `Numpy`-Funktion [`asarray()`](https://numpy.org/doc/stable/reference/generated/numpy.asarray.html) in ein zwei-dimensionales Numpy-Array umgewandelt werden. Abschließend wird das Bild mittels [`imshow`](https://matplotlib.org/stable/api/_as_gen/matplotlib.pyplot.imshow.html)-Funktion des Moduls `matplotlib` dargestellt. Dabei sind zwei zusätzliche Parameter sinnvoll:\n",
    " - Damit das anzuzeigende Bild bei der Darstellung nicht automatisch interpoliert wird, muss der Parameter `interpolation` auf `\"none\"` gesetzt werden.\n",
    " - Da es sich bei dem Bild um ein Schwarz-Weiß-Bild handelt, sollte die Farbdarstellung (engl. Color Map) auf grau gestellt werden, d.h. `cmap='grey'`.\n",
    "\n",
    "Ein Minimalbeispiel sieht wie folgt aus:"
   ]
  },
  {
   "cell_type": "code",
   "execution_count": null,
   "metadata": {},
   "outputs": [],
   "source": [
    "# Laden der erforderlichen Module\n",
    "import matplotlib.pyplot as plt\n",
    "import numpy as np\n",
    "from PIL import Image\n",
    "\n",
    "# Einlesen eines Bildes\n",
    "bild_homer = Image.open(\"Daten/homer_128x128.jpg\")\n",
    "\n",
    "# Umwandeln des Bildes in ein Numpy-Array\n",
    "bild_array = np.asarray(bild_homer)\n",
    "\n",
    "# Darstellen des Bildes\n",
    "plt.imshow(bild_array, interpolation=\"none\", cmap='gray')\n",
    "plt.show()"
   ]
  },
  {
   "cell_type": "markdown",
   "metadata": {},
   "source": [
    "### **Lösung**"
   ]
  },
  {
   "cell_type": "code",
   "execution_count": null,
   "metadata": {},
   "outputs": [],
   "source": [
    "# 1. Importieren der Notwendige Bibliotheken \n",
    "\n",
    "import matplotlib.pyplot as plt # Bilder auzuzeigen\n",
    "import numpy as np # Bilddaten in einem Array zu speichern und numerische Berechnungen duchzuführen\n",
    "from PIL import Image # enthält die image-Klasse, um das Bild aus einer datei einzuleses\n",
    "\n",
    "\n",
    "# Teil 1: \n",
    "\n",
    "# 2. Lesen des Bildes mit niedriger Auflösung (128 x 128)\n",
    "\n",
    "pfad_niedrige_aufloesung = \"Daten/homer_128x128.jpg\" # angibt  den Pfad zur Bilddatei mit niedriger Auflösung\n",
    "bild_niedrige_aufloesung = Image.open(pfad_niedrige_aufloesung) # öffnet das Bild unter dem angegebenen Pfad und lädt es in die Variable bild_niedrige_aufloesung\n",
    "bild_niedrige_aufloesung_array = np.asarray(bild_niedrige_aufloesung) # wandelt das Bild in ein numpy-Array um, das als zweidimensionale Matrix aus Bildpixeln gespeichert wird\n",
    "\n",
    "\n",
    "# 3. Anzeige des Bildes mit niedriger Auflösung\n",
    "\n",
    "plt.imshow(bild_niedrige_aufloesung_array, interpolation=\"none\", cmap=\"gray\")\n",
    "plt.title(\"bild mit niedriger Auflösung (128x128)\")\n",
    "plt.show()\n",
    "\n",
    "\n",
    "# Teil 2: Funktion zur Auflösungser\n",
    "\n",
    "# 4. Definieren der Funktion zur Verdopplung der Auflösung (manuelle Interpolation)\n",
    "\n",
    "def aufloesung_verdoppeln(bild_array): # definiert eine Funktion namens auflosung_verdoppeln, die ein Array bild_array als Eingabe nimmt und die Auflösung dur manuelle Interpolation verdoppelt.\n",
    "    height, width = bild_array.shape # Holt (recovers) die Höhe und Breite des Originalbildes\n",
    "    neu_bild_array = np.zeros((height * 2, width * 2)) # Erstellt ein neues Array neu_bild_array mit der doppelten Höhe und Breite, gefüllt mit Nüllen\n",
    "\n",
    "# 5. Pixelwerte in das neue Array übertragen\n",
    "\n",
    "for i in range(height): # Zwei for-Schleifen: Iterieren über jede Zeile (i) und Spalte (j) des Originalbildes\n",
    "    for j in range(width):\n",
    "        original_pixel = bild_array[i, j] # Speichert des Pixwert des Originalbildes an der Position (i, j)\n",
    "\n",
    "# 6. Interpolationspunkte im neuen Array füllen\n",
    "\n",
    "        neu_bild_array[i * 2, j * 2] = ori\n",
    "    "
   ]
  }
 ],
 "metadata": {
  "kernelspec": {
   "display_name": "base",
   "language": "python",
   "name": "python3"
  },
  "language_info": {
   "codemirror_mode": {
    "name": "ipython",
    "version": 3
   },
   "file_extension": ".py",
   "mimetype": "text/x-python",
   "name": "python",
   "nbconvert_exporter": "python",
   "pygments_lexer": "ipython3",
   "version": "3.11.5"
  }
 },
 "nbformat": 4,
 "nbformat_minor": 2
}
