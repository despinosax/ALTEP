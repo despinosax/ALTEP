{
 "cells": [
  {
   "cell_type": "markdown",
   "metadata": {},
   "source": [
    "# **Beispielaufgabe**\n",
    "\n",
    "Das Flügelradanemometer einer Wetterstation misst die mittlere Windgeschwindigkeit aller 10 Minuten. Aufgrund von technischen Schwierigkeiten bei der Datenübertragung sind einzele Werte fehlerhaft und mit 0 m/s gespeichert. Daher ergibt sich folgender Graph für die mittlere Windgeschwindigkeit über die Zeit:\n",
    "\n",
    "![alt text](Abbildungen/windgeschwindigkeit_aufgabe.png)\n",
    "\n",
    "### **Teilaufgaben**\n",
    "\n",
    "1. Lesen Sie die Geschwindigkeitsdaten aus der Datei `geschwindigkeiten.csv` ein und speichern Sie die Zeit und Geschwindigkeit in zwei Numpy-Arrays.\n",
    "2. Schreiben Sie eine Funktion, welche zwischen zwei bekannten Stützwerten linear interpoliert. Dabei sollen der Stützpunkt sowie die zwei Stützstellen übergeben werden und der linear interpolierte Stützwert zurückgegeben werden.\n",
    "3. Berechnen Sie die fehlerhaften Werte mit Hilfe einer linearen Interpolation zwischen den korrekt gemessenen, benachbarten Werten. Stellen Sie das bereinigte Ergebnis in einem Diagramm dar."
   ]
  },
  {
   "cell_type": "markdown",
   "metadata": {},
   "source": [
    "### **Lösung**\n",
    "\n",
    "Zunächst werden zwei zusätzliche Bibliotheken geladen: (1) Numpy zum einlesen der Geschwindigkeitsdaten und speichern in einem Numpy-Array und (2) Matplotlib zur Erstellung von Diagrammen."
   ]
  },
  {
   "cell_type": "code",
   "execution_count": 1,
   "metadata": {},
   "outputs": [],
   "source": [
    "# Laden der Module\n",
    "import numpy as np\n",
    "import matplotlib.pyplot as plt"
   ]
  },
  {
   "cell_type": "markdown",
   "metadata": {},
   "source": [
    "Anschließend werden die Geschwindigkeitsdaten über der Zeit aus der Datei `geschwindigkeit.csv` eingelesen, welche sich im `Daten` Ordner befindet. Hier wird der Numpy-Befehl `genfromtxt()` verwendet mit folgenden Parametern:\n",
    " - `\"Daten/geschwindigkeit.csv\"`: Gibt den Pfad zur Datei an, welche eingelesen werden soll.\n",
    " - `delimiter=\",\"`: Da es sich bei der Textdatei um eine CSV-Datei (**C**omma **S**eparate **V**alues) handelt, sind die Spalten mit Kommas voneinander getrennt. Diese Trennung kann mit Hilfe des `delimiter` Parameters explizit angegeben werden.\n",
    " - `unpack=True`: Um beide Spalten der Datei direkt in zwei getrennte Numpy-Arrays einzulesen, wird der Parameter `unpack` auf Wahr gesetzt. Damit können links vom Zuweisungsoperator zwei Variablen angeben werden, in welchen die zwei Spalten getrennt gespeichert werden."
   ]
  },
  {
   "cell_type": "code",
   "execution_count": 2,
   "metadata": {},
   "outputs": [],
   "source": [
    "# Rohdaten von Zeit und Windgeschwindigkeit\n",
    "zeit, geschwindigkeit = np.genfromtxt(\"Daten/geschwindigkeit.csv\", delimiter=\",\", unpack=True)"
   ]
  },
  {
   "cell_type": "markdown",
   "metadata": {},
   "source": [
    "Anschließend wird eine Funktion geschrieben, welche *einen* Stützwert *y* an einem Stützpunkt *x* zwischen zwei benachbarten Stützstellen (*x*<sub>k</sub>, *y*<sub>k</sub>) und (*x*<sub>k+1</sub>, *y*<sub>k+1</sub>) linear interpoliert. Mathematisch entspricht dies folgener Gleichung:\n",
    "\n",
    "$$ p(x) = \\frac{y_{k+1}-y_k}{x_{k+1}-x_k}(x-x_k)+y_k $$\n",
    "\n",
    "In Python implementiert ergibt sich folgende Funktion:"
   ]
  },
  {
   "cell_type": "code",
   "execution_count": 3,
   "metadata": {},
   "outputs": [],
   "source": [
    "def interpolate(x, x1, x2, y1, y2):\n",
    "    '''\n",
    "    Lineare Interpolation von x zwischen den Punkten (x1, y1) und (x2, y2)\n",
    "    \n",
    "        Parameter:\n",
    "            x           : x-Wert, an dem interpoliert werden soll\n",
    "            (x1, x2)    : Bekannte Stützstellen\n",
    "            (y1, y2)    : Bekannte Stützwerte\n",
    "            \n",
    "        Rückgabe:\n",
    "            y           : Lösungsvektor\n",
    "    '''\n",
    "\n",
    "    # Bedingung, dass x zwischen x1 und x2 liegt\n",
    "    if x1 <= x <= x2:\n",
    "    \n",
    "        return (y2 - y1) / (x2 - x1) * (x - x1) + y1\n",
    "\n",
    "    # Falls Bedingung nicht erfüllt, Fehlermeldung\n",
    "    else:\n",
    "\n",
    "        raise ValueError('x-Wert liegt nicht zwischen den Stützstellen!')"
   ]
  },
  {
   "cell_type": "markdown",
   "metadata": {},
   "source": [
    "Für die Interpolation aller fehlerhaften Datenpunkte wird anschließend eine `for`-Schleife verwendet, um über alle Datenpunkte zu iterieren und bei fehlerhaften Geschwindigkeiten diese basierend aus den Nachbarwerten zu interpolieren. Die `for`-Schleife läuft dabei über alle Indizes der Geschwindigkeiten, d.h. von 0 bis 10. Über den Index an anschließend sowohl auf die Zeit als auch die Geschwindigkeiten des entsprechenden Punktes (via `[index]`) zugegriffen werden, als auch auf die für die Interpolation benötigten Nachbarwerte (via `[index-1]` bzw. `[index+1]`). Das Vorgehen ist in folgender Abbildung veranschaulicht:\n",
    "\n",
    "![alt text](beispielaufgabe.png)\n",
    "\n",
    "Die entsprechende `for`-Schleife in Python mit Überprüfung der Geschwindigkeit und anschließender Interpolation sieht wie folgt aus:"
   ]
  },
  {
   "cell_type": "code",
   "execution_count": 4,
   "metadata": {},
   "outputs": [],
   "source": [
    "# Schleife über alle (inneren) Zeiten\n",
    "for index in range(1, len(zeit)-1):\n",
    "\n",
    "    # Überprüfe, ob Windgeschwindigkeit fehlerhaft (d.h. = 0) ist\n",
    "    if geschwindigkeit[index] == 0:\n",
    "\n",
    "        # Aufruf der Interpolationsfunktion und Überschreiben der fehlerhaften Geschwindigkeit\n",
    "        geschwindigkeit[index] = interpolate(\n",
    "            zeit[index],\n",
    "            zeit[index-1],\n",
    "            zeit[index+1],\n",
    "            geschwindigkeit[index-1],\n",
    "            geschwindigkeit[index+1]\n",
    "        )"
   ]
  },
  {
   "cell_type": "markdown",
   "metadata": {},
   "source": [
    "Wurden die fehlerhaften Geschwindigkeiten im Numpy-Array `geschwindigkeit` korrigiert, kann anschließend die Geschwindigkeit in einem Diagramm dargestellt werden:"
   ]
  },
  {
   "cell_type": "code",
   "execution_count": null,
   "metadata": {},
   "outputs": [],
   "source": [
    "# Darstellen der korrigierten Geschwindigkeiten\n",
    "plt.xlabel(\"Zeit [min]\")\n",
    "plt.ylabel(\"Windgeschwindigkeit [m/s]\")\n",
    "plt.title(\"Korrigierte Windgeschwindigkeit\")\n",
    "plt.grid(linewidth=0.5)\n",
    "plt.scatter(zeit, geschwindigkeit)\n",
    "plt.tight_layout()\n",
    "plt.ylim(0,10)\n",
    "\n",
    "plt.show()"
   ]
  }
 ],
 "metadata": {
  "kernelspec": {
   "display_name": "Python 3",
   "language": "python",
   "name": "python3"
  },
  "language_info": {
   "codemirror_mode": {
    "name": "ipython",
    "version": 3
   },
   "file_extension": ".py",
   "mimetype": "text/x-python",
   "name": "python",
   "nbconvert_exporter": "python",
   "pygments_lexer": "ipython3",
   "version": "3.11.2"
  }
 },
 "nbformat": 4,
 "nbformat_minor": 2
}
